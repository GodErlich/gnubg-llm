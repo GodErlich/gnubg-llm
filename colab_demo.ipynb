{
 "cells": [
  {
   "cell_type": "markdown",
   "metadata": {
    "id": "header"
   },
   "source": [
    "# 🎲 GNU Backgammon Research Environment - Google Colab Demo\n",
    "\n",
    "[![Open In Colab](https://colab.research.google.com/assets/colab-badge.svg)](https://colab.research.google.com/github/GodErlich/gnubg-llm/blob/main/colab_demo.ipynb)\n",
    "\n",
    "This notebook sets up the complete GNU Backgammon research environment in Google Colab using your project's infrastructure.\n",
    "\n",
    "**✨ Features:**\n",
    "- 🚀 Uses your project's Makefile for setup\n",
    "- 🤖 Access to all your custom agents\n",
    "- 📊 Interactive game execution\n",
    "- 📁 Log file analysis\n",
    "- 🔧 No local installation required!\n",
    "\n",
    "**⚡ Quick Start:** Click \"Run All\" or run cells individually"
   ]
  },
  {
   "cell_type": "markdown",
   "metadata": {
    "id": "setup"
   },
   "source": [
    "## 📦 Step 1: Clone Project & Setup Environment"
   ]
  },
  {
   "cell_type": "code",
   "execution_count": null,
   "metadata": {
    "id": "clone-repo"
   },
   "outputs": [],
   "source": [
    "import os\n",
    "import subprocess\n",
    "import sys\n",
    "from pathlib import Path\n",
    "\n",
    "# Clone the repository if not already present\n",
    "if not Path('/content/gnubg-llm').exists():\n",
    "    print(\"📥 Cloning GNU Backgammon Research Environment...\")\n",
    "    !git clone https://github.com/GodErlich/gnubg-llm.git /content/gnubg-llm\n",
    "    print(\"✅ Repository cloned successfully!\")\n",
    "else:\n",
    "    print(\"✅ Repository already present\")\n",
    "\n",
    "# Change to project directory\n",
    "os.chdir('/content/gnubg-llm')\n",
    "print(f\"📂 Working directory: {os.getcwd()}\")\n",
    "\n",
    "# Show project structure\n",
    "print(\"\\n🏗️ Project Structure:\")\n",
    "!ls -la"
   ]
  },
  {
   "cell_type": "markdown",
   "metadata": {
    "id": "makefile-setup"
   },
   "source": [
    "## 🔧 Step 2: Run Project Setup Using Makefile"
   ]
  },
  {
   "cell_type": "code",
   "execution_count": null,
   "metadata": {
    "id": "run-makefile"
   },
   "outputs": [],
   "source": [
    "# Use the project's Makefile for proper setup\n",
    "print(\"🎯 Running project setup using Makefile...\")\n",
    "print(\"This uses your project's infrastructure: make all\")\n",
    "print(\"=\" * 60)\n",
    "\n",
    "# Run make all (this will install gnubg and Python dependencies)\n",
    "result = subprocess.run(['make', 'all'], capture_output=True, text=True)\n",
    "\n",
    "print(\"📤 Setup Output:\")\n",
    "print(result.stdout)\n",
    "\n",
    "if result.stderr:\n",
    "    print(\"⚠️ Setup Warnings/Errors:\")\n",
    "    print(result.stderr)\n",
    "\n",
    "if result.returncode == 0:\n",
    "    print(\"\\n✅ Project setup completed successfully using your Makefile!\")\n",
    "else:\n",
    "    print(f\"\\n❌ Setup failed with return code: {result.returncode}\")\n",
    "    # Try individual steps if make all fails\n",
    "    print(\"\\n🔄 Trying individual setup steps...\")\n",
    "    !make deps\n",
    "    !make install-gnubg\n",
    "    !make install-python"
   ]
  },
  {
   "cell_type": "markdown",
   "metadata": {
    "id": "verify"
   },
   "source": [
    "## 🧪 Step 3: Verify Installation Using Project Scripts"
   ]
  },
  {
   "cell_type": "code",
   "execution_count": null,
   "metadata": {
    "id": "verify-installation"
   },
   "outputs": [],
   "source": [
    "# Use the project's status check\n",
    "print(\"🔍 Checking installation status using project's Makefile...\")\n",
    "!make status\n",
    "\n",
    "print(\"\\n🧪 Testing main.py script:\")\n",
    "result = subprocess.run(['python3', 'main.py', '--help'], capture_output=True, text=True)\n",
    "print(result.stdout)\n",
    "\n",
    "print(\"\\n📂 Available agents in your project:\")\n",
    "try:\n",
    "    from src.agents import *\n",
    "    agents_dir = Path('src/agents')\n",
    "    agent_files = list(agents_dir.glob('*_agent.py'))\n",
    "    for agent_file in agent_files:\n",
    "        print(f\"  🤖 {agent_file.stem}\")\n",
    "except Exception as e:\n",
    "    print(f\"  ⚠️ Could not list agents: {e}\")\n",
    "\n",
    "print(\"\\n🎯 Environment ready for your research project!\")"
   ]
  },
  {
   "cell_type": "markdown",
   "metadata": {
    "id": "demo"
   },
   "source": [
    "## 🎮 Step 4: Run Games Using Your Project Scripts"
   ]
  },
  {
   "cell_type": "code",
   "execution_count": null,
   "metadata": {
    "id": "run-demo-game"
   },
   "outputs": [],
   "source": [
    "# Function to run games using your main.py script\n",
    "def run_research_game(agent1=\"RandomAgent\", agent2=\"DebugAgent\", num_games=1, debug=True):\n",
    "    \"\"\"Run games using your project's main.py script\"\"\"\n",
    "    print(f\"🎲 Running {num_games} game(s) using your project: {agent1} vs {agent2}\")\n",
    "    print(\"Using: python3 main.py with your agents\")\n",
    "    print(\"-\" * 60)\n",
    "    \n",
    "    # Build command using your script\n",
    "    cmd = ['python3', 'main.py', '--a1', agent1, '--a2', agent2, '--n', str(num_games)]\n",
    "    if debug:\n",
    "        cmd.append('--d')\n",
    "    \n",
    "    print(f\"📝 Command: {' '.join(cmd)}\")\n",
    "    \n",
    "    # Run your script\n",
    "    result = subprocess.run(cmd, capture_output=True, text=True)\n",
    "    \n",
    "    print(\"\\n📊 Game Results:\")\n",
    "    print(result.stdout)\n",
    "    \n",
    "    if result.stderr:\n",
    "        print(\"\\n⚠️ Debug Info:\")\n",
    "        print(result.stderr)\n",
    "    \n",
    "    return result.returncode == 0\n",
    "\n",
    "# Run a demo using your project's agents\n",
    "print(\"🚀 Demo 1: RandomAgent vs DebugAgent (using your project infrastructure)\")\n",
    "success = run_research_game(\"RandomAgent\", \"DebugAgent\", 1)\n",
    "print(f\"\\n{'✅ Demo completed!' if success else '❌ Demo failed'}\")"
   ]
  },
  {
   "cell_type": "markdown",
   "metadata": {
    "id": "interactive"
   },
   "source": [
    "## 🎛️ Step 5: Interactive Agent Testing"
   ]
  },
  {
   "cell_type": "code",
   "execution_count": null,
   "metadata": {
    "id": "interactive-testing"
   },
   "outputs": [],
   "source": [
    "# Interactive testing with your project's agents\n",
    "print(\"🎮 Interactive Agent Testing - Choose your configuration:\")\n",
    "print(\"=\" * 55)\n",
    "\n",
    "# Available agents from your project\n",
    "available_agents = ['RandomAgent', 'DebugAgent', 'LLMAgent', 'LiveCodeAgent']\n",
    "\n",
    "print(\"Available agents in your project:\")\n",
    "for i, agent in enumerate(available_agents, 1):\n",
    "    print(f\"{i}. {agent}\")\n",
    "\n",
    "# For Colab, we'll run a few preset configurations\n",
    "configurations = [\n",
    "    (\"RandomAgent\", \"DebugAgent\", 3),\n",
    "    (\"DebugAgent\", \"RandomAgent\", 2),\n",
    "    (\"RandomAgent\", \"RandomAgent\", 2)\n",
    "]\n",
    "\n",
    "print(\"\\n🏆 Running tournament with your agents:\")\n",
    "for i, (a1, a2, games) in enumerate(configurations, 1):\n",
    "    print(f\"\\n--- Round {i} ---\")\n",
    "    run_research_game(a1, a2, games, debug=False)"
   ]
  },
  {
   "cell_type": "markdown",
   "metadata": {
    "id": "logs"
   },
   "source": [
    "## 📁 Step 6: Analyze Generated Logs"
   ]
  },
  {
   "cell_type": "code",
   "execution_count": null,
   "metadata": {
    "id": "analyze-logs"
   },
   "outputs": [],
   "source": [
    "# Analyze logs generated by your project\n",
    "print(\"📊 Analyzing logs generated by your project...\")\n",
    "print(\"=\" * 50)\n",
    "\n",
    "output_dir = Path('output')\n",
    "if output_dir.exists():\n",
    "    log_files = list(output_dir.glob('*.log'))\n",
    "    \n",
    "    print(f\"📁 Found {len(log_files)} log files from your games:\")\n",
    "    for log_file in log_files:\n",
    "        size = log_file.stat().st_size\n",
    "        print(f\"  📄 {log_file.name} ({size} bytes)\")\n",
    "    \n",
    "    if log_files:\n",
    "        # Show content of most recent log\n",
    "        latest_log = max(log_files, key=lambda x: x.stat().st_mtime)\n",
    "        print(f\"\\n📋 Latest game log ({latest_log.name}):\")\n",
    "        print(\"-\" * 40)\n",
    "        \n",
    "        with open(latest_log, 'r') as f:\n",
    "            content = f.read()\n",
    "            if len(content) > 1500:\n",
    "                print(content[:1500] + \"\\n\\n... (truncated for display)\")\n",
    "            else:\n",
    "                print(content)\n",
    "                \n",
    "        # Show file structure created by your project\n",
    "        print(\"\\n📂 Output directory structure:\")\n",
    "        !ls -la output/\n",
    "else:\n",
    "    print(\"📁 No output directory found. Run a game first!\")\n",
    "    print(\"Your project creates logs in the 'output' directory.\")"
   ]
  },
  {
   "cell_type": "markdown",
   "metadata": {
    "id": "custom-commands"
   },
   "source": [
    "## 🛠️ Step 7: Custom Commands Using Your Project"
   ]
  },
  {
   "cell_type": "code",
   "execution_count": null,
   "metadata": {
    "id": "custom-commands-cell"
   },
   "outputs": [],
   "source": [
    "# Examples of using your project's capabilities\n",
    "print(\"🔧 Custom commands using your project infrastructure:\")\n",
    "print(\"=\" * 55)\n",
    "\n",
    "# Example 1: Using your Makefile commands\n",
    "print(\"1. 📊 Project status check:\")\n",
    "!make status\n",
    "\n",
    "print(\"\\n2. 🎯 Custom game with specific parameters:\")\n",
    "# Run a custom game using your main.py with specific settings\n",
    "!python3 main.py --a1 RandomAgent --a2 RandomAgent --n 2 --fn \"colab_test\" --fp \"output\"\n",
    "\n",
    "print(\"\\n3. 📁 List output files created by your project:\")\n",
    "!ls -la output/ 2>/dev/null || echo \"No output files yet\"\n",
    "\n",
    "print(\"\\n4. 🧰 Available Makefile targets in your project:\")\n",
    "!make help\n",
    "\n",
    "print(\"\\n✨ Your complete research environment is now running in Colab!\")\n",
    "print(\"🎯 All your agents, scripts, and infrastructure work exactly as designed.\")"
   ]
  },
  {
   "cell_type": "markdown",
   "metadata": {
    "id": "next-steps"
   },
   "source": [
    "## 🚀 Next Steps\n",
    "\n",
    "Your GNU Backgammon research environment is now fully functional in Google Colab!\n",
    "\n",
    "### 🎮 What You Can Do:\n",
    "\n",
    "1. **Run More Games**: Use `!python3 main.py --a1 AGENT1 --a2 AGENT2 --n NUMBER`\n",
    "2. **Analyze Logs**: Check the `output/` directory for detailed game logs\n",
    "3. **Use Makefile**: All your Makefile commands work: `!make status`, `!make clean`, etc.\n",
    "4. **Develop Agents**: Modify files in `src/agents/` to create custom agents\n",
    "5. **Research**: Use all your project's capabilities for backgammon AI research\n",
    "\n",
    "### 🔧 Your Project Features Working in Colab:\n",
    "- ✅ **Makefile setup** - complete project installation\n",
    "- ✅ **Agent system** - all your custom agents available\n",
    "- ✅ **Logging system** - detailed game analysis\n",
    "- ✅ **GNU Backgammon engine** - full functionality\n",
    "- ✅ **Batch processing** - multiple game statistics\n",
    "\n",
    "### 📚 Development:\n",
    "- **Local Development**: Use GitHub Codespaces or Gitpod for full IDE experience\n",
    "- **Team Collaboration**: Share this Colab notebook with team members\n",
    "- **Research**: Export logs and results for further analysis\n",
    "\n",
    "🎉 **Happy researching with your GNU Backgammon AI environment!**"
   ]
  }
 ],
 "metadata": {
  "colab": {
   "provenance": []
  },
  "kernelspec": {
   "display_name": "Python 3",
   "language": "python",
   "name": "python3"
  },
  "language_info": {
   "codemirror_mode": {
    "name": "ipython",
    "version": 3
   },
   "file_extension": ".py",
   "mimetype": "text/x-python",
   "name": "python",
   "nbconvert_exporter": "python",
   "pygments_lexer": "ipython3",
   "version": "3.8.0"
  }
 },
 "nbformat": 4,
 "nbformat_minor": 0
}